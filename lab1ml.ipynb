{
  "nbformat": 4,
  "nbformat_minor": 0,
  "metadata": {
    "colab": {
      "provenance": []
    },
    "kernelspec": {
      "name": "python3",
      "display_name": "Python 3"
    },
    "language_info": {
      "name": "python"
    }
  },
  "cells": [
    {
      "cell_type": "markdown",
      "source": [
        "**Muhammad Abdullah(413846) BSCS 12A**"
      ],
      "metadata": {
        "id": "dDLiHxHycn01"
      }
    },
    {
      "cell_type": "code",
      "execution_count": null,
      "metadata": {
        "colab": {
          "base_uri": "https://localhost:8080/"
        },
        "id": "BZ0g-gPQaS34",
        "outputId": "568f5317-e019-4f87-cba9-2e09c0e39466"
      },
      "outputs": [
        {
          "output_type": "stream",
          "name": "stdout",
          "text": [
            "Hello, Machine Learning World!\n"
          ]
        }
      ],
      "source": [
        "print(\"Hello, Machine Learning World!\")"
      ]
    },
    {
      "cell_type": "code",
      "source": [
        "from google.colab import drive\n",
        "drive.mount('/content/drive')"
      ],
      "metadata": {
        "id": "RoqaCDIbaiP4",
        "colab": {
          "base_uri": "https://localhost:8080/"
        },
        "outputId": "7fa87dbd-c795-4e91-d131-22a058dc6b07"
      },
      "execution_count": 12,
      "outputs": [
        {
          "output_type": "stream",
          "name": "stdout",
          "text": [
            "Mounted at /content/drive\n"
          ]
        }
      ]
    },
    {
      "cell_type": "code",
      "source": [
        "a = 3\n",
        "b = 5\n",
        "print(a+b)"
      ],
      "metadata": {
        "id": "n4NmPFf1bR0E",
        "colab": {
          "base_uri": "https://localhost:8080/"
        },
        "outputId": "e3a0defa-0494-49d5-ef5b-232fd87610ff"
      },
      "execution_count": 13,
      "outputs": [
        {
          "output_type": "stream",
          "name": "stdout",
          "text": [
            "8\n"
          ]
        }
      ]
    },
    {
      "cell_type": "code",
      "source": [
        "from google.colab import drive\n",
        "drive.flush_and_unmount()"
      ],
      "metadata": {
        "id": "vpV4FaeYcAy8"
      },
      "execution_count": 15,
      "outputs": []
    },
    {
      "cell_type": "code",
      "source": [
        "import numpy as np"
      ],
      "metadata": {
        "id": "4vfBCKWxfuv-"
      },
      "execution_count": 16,
      "outputs": []
    },
    {
      "cell_type": "code",
      "source": [
        "data = np.array([4.0,5.0,6.0,8.0,10.0])\n",
        "normalized_data =  (data - np.mean(data))/np.std(data)\n",
        "print(normalized_data)"
      ],
      "metadata": {
        "id": "l8GbH4Q_dHT3",
        "colab": {
          "base_uri": "https://localhost:8080/"
        },
        "outputId": "ac12d957-e08e-4f4b-ce9e-d9457aaa7ded"
      },
      "execution_count": 18,
      "outputs": [
        {
          "output_type": "stream",
          "name": "stdout",
          "text": [
            "[-1.2070197  -0.74278135 -0.27854301  0.64993368  1.57841037]\n"
          ]
        }
      ]
    },
    {
      "cell_type": "code",
      "source": [
        "A = np.array([[1,2],[3,4]])\n",
        "B = np.array([[5,6],[7,8]])\n",
        "result = np.dot(A,B)\n",
        "print(result)\n"
      ],
      "metadata": {
        "id": "dTKia4-ydi5r",
        "colab": {
          "base_uri": "https://localhost:8080/"
        },
        "outputId": "2f90eb12-fb90-4aa4-9fc7-6fa70b4876e4"
      },
      "execution_count": 19,
      "outputs": [
        {
          "output_type": "stream",
          "name": "stdout",
          "text": [
            "[[19 22]\n",
            " [43 50]]\n"
          ]
        }
      ]
    },
    {
      "cell_type": "code",
      "source": [
        "X = np.array([[1,2],[3,4],[5,6]])\n",
        "beta = np.array([0.5,1.5])\n",
        "b = 0.1\n",
        "y_pred = np.dot(X,beta) + b\n",
        "print(y_pred)"
      ],
      "metadata": {
        "id": "gZmkyktMdzPz",
        "colab": {
          "base_uri": "https://localhost:8080/"
        },
        "outputId": "c56f81cc-44c5-4b4c-dffb-711a7f21fe63"
      },
      "execution_count": 20,
      "outputs": [
        {
          "output_type": "stream",
          "name": "stdout",
          "text": [
            "[ 3.6  7.6 11.6]\n"
          ]
        }
      ]
    },
    {
      "cell_type": "code",
      "source": [
        "import numpy as np\n",
        "array_a = np.array([1, 2, 3])\n",
        "array_b = np.array([4, 5, 6])\n",
        "result = array_a + array_b\n",
        "print(result)\n"
      ],
      "metadata": {
        "id": "xlNfQYLkevZC",
        "colab": {
          "base_uri": "https://localhost:8080/"
        },
        "outputId": "0cdd4a7f-3a17-4c82-f569-c308821f2f7d"
      },
      "execution_count": 21,
      "outputs": [
        {
          "output_type": "stream",
          "name": "stdout",
          "text": [
            "[5 7 9]\n"
          ]
        }
      ]
    },
    {
      "cell_type": "code",
      "source": [
        "a = np.array([1, 2, 3])\n",
        "b = np.array([4, 5, 6])\n",
        "print(a + b)\n",
        "print(a * b)"
      ],
      "metadata": {
        "id": "x3yVCKusfODh",
        "colab": {
          "base_uri": "https://localhost:8080/"
        },
        "outputId": "949e3cde-4016-4024-da33-269b9ac105f7"
      },
      "execution_count": 22,
      "outputs": [
        {
          "output_type": "stream",
          "name": "stdout",
          "text": [
            "[5 7 9]\n",
            "[ 4 10 18]\n"
          ]
        }
      ]
    },
    {
      "cell_type": "code",
      "source": [
        "a = np.array([[1,2,3],[4,5,6]])\n",
        "b = np.array([1,2,3])\n",
        "print(a+b)"
      ],
      "metadata": {
        "id": "TbK0QnJffTJk",
        "colab": {
          "base_uri": "https://localhost:8080/"
        },
        "outputId": "8c7949bd-1e73-4f17-9070-28dc269beabf"
      },
      "execution_count": 23,
      "outputs": [
        {
          "output_type": "stream",
          "name": "stdout",
          "text": [
            "[[2 4 6]\n",
            " [5 7 9]]\n"
          ]
        }
      ]
    },
    {
      "cell_type": "code",
      "source": [
        "a = np.array([1,2,3,4,5,6])\n",
        "a_reshaped = a.reshape(2,3)\n",
        "print(a_reshaped)"
      ],
      "metadata": {
        "colab": {
          "base_uri": "https://localhost:8080/"
        },
        "id": "8bRv9lXmfgae",
        "outputId": "28bf17b9-e72c-4bfa-e8e5-0de9794720e3"
      },
      "execution_count": 24,
      "outputs": [
        {
          "output_type": "stream",
          "name": "stdout",
          "text": [
            "[[1 2 3]\n",
            " [4 5 6]]\n"
          ]
        }
      ]
    },
    {
      "cell_type": "code",
      "source": [
        "a_flat = a_reshaped.flatten()\n",
        "print(a_flat)"
      ],
      "metadata": {
        "colab": {
          "base_uri": "https://localhost:8080/"
        },
        "id": "Wv4Ri_vHf7tb",
        "outputId": "62d1bf11-a027-447e-9cc5-95dddb3a4a38"
      },
      "execution_count": 25,
      "outputs": [
        {
          "output_type": "stream",
          "name": "stdout",
          "text": [
            "[1 2 3 4 5 6]\n"
          ]
        }
      ]
    },
    {
      "cell_type": "code",
      "source": [
        "array_1d = np.array([10,20,30,40])\n",
        "print(array_1d)"
      ],
      "metadata": {
        "colab": {
          "base_uri": "https://localhost:8080/"
        },
        "id": "i2pw1a3GgBWC",
        "outputId": "ea09d54b-861a-4508-94df-e104c1f8ee46"
      },
      "execution_count": 26,
      "outputs": [
        {
          "output_type": "stream",
          "name": "stdout",
          "text": [
            "[10 20 30 40]\n"
          ]
        }
      ]
    },
    {
      "cell_type": "code",
      "source": [
        "array_2d = np.array([[1,2,3],[4,5,6]])\n",
        "print(array_2d)"
      ],
      "metadata": {
        "id": "85zLI8kNgJ-K",
        "colab": {
          "base_uri": "https://localhost:8080/"
        },
        "outputId": "1242ce07-740b-4338-c78d-c68b8f5dac9c"
      },
      "execution_count": 27,
      "outputs": [
        {
          "output_type": "stream",
          "name": "stdout",
          "text": [
            "[[1 2 3]\n",
            " [4 5 6]]\n"
          ]
        }
      ]
    },
    {
      "cell_type": "code",
      "source": [
        "array_sum = array_1d + 5\n",
        "print(array_sum)"
      ],
      "metadata": {
        "colab": {
          "base_uri": "https://localhost:8080/"
        },
        "id": "RfuQUszKgXsv",
        "outputId": "e4ded21f-290c-4882-f352-3e8ca01e9624"
      },
      "execution_count": 28,
      "outputs": [
        {
          "output_type": "stream",
          "name": "stdout",
          "text": [
            "[15 25 35 45]\n"
          ]
        }
      ]
    },
    {
      "cell_type": "code",
      "source": [
        "random_matrix = np.random.random((3,3))\n",
        "print(random_matrix)"
      ],
      "metadata": {
        "colab": {
          "base_uri": "https://localhost:8080/"
        },
        "id": "jJfYH66ogdGC",
        "outputId": "532397cc-aaa7-4a6b-f57e-0ce89e97a0d8"
      },
      "execution_count": 29,
      "outputs": [
        {
          "output_type": "stream",
          "name": "stdout",
          "text": [
            "[[0.62305493 0.97374066 0.2356063 ]\n",
            " [0.48362364 0.94174212 0.04849621]\n",
            " [0.69992364 0.83077265 0.00959603]]\n"
          ]
        }
      ]
    },
    {
      "cell_type": "code",
      "source": [
        "random_matrix_scaled =random_matrix * 100\n",
        "print(random_matrix_scaled)"
      ],
      "metadata": {
        "colab": {
          "base_uri": "https://localhost:8080/"
        },
        "id": "nA88NvMXgl4I",
        "outputId": "14614d87-5079-4d0c-a386-dcd5eec762cd"
      },
      "execution_count": 30,
      "outputs": [
        {
          "output_type": "stream",
          "name": "stdout",
          "text": [
            "[[62.30549288 97.37406644 23.56063028]\n",
            " [48.36236392 94.17421194  4.84962082]\n",
            " [69.99236366 83.07726493  0.95960321]]\n"
          ]
        }
      ]
    },
    {
      "cell_type": "code",
      "source": [
        "reshaped_array = np.array([1, 2, 3, 4, 5, 6]).reshape(2, 3)\n",
        "print(reshaped_array)"
      ],
      "metadata": {
        "id": "DPTo1vvtgwT6",
        "colab": {
          "base_uri": "https://localhost:8080/"
        },
        "outputId": "fbd16430-e9a9-431c-cfe9-81ae108ac963"
      },
      "execution_count": 31,
      "outputs": [
        {
          "output_type": "stream",
          "name": "stdout",
          "text": [
            "[[1 2 3]\n",
            " [4 5 6]]\n"
          ]
        }
      ]
    },
    {
      "cell_type": "code",
      "source": [
        "sliced_array = reshaped_array[:2, :2]\n",
        "print(sliced_array)"
      ],
      "metadata": {
        "id": "gxLkoTkTg6fj",
        "colab": {
          "base_uri": "https://localhost:8080/"
        },
        "outputId": "650f9602-e488-4961-b8c7-37e6203d7533"
      },
      "execution_count": 32,
      "outputs": [
        {
          "output_type": "stream",
          "name": "stdout",
          "text": [
            "[[1 2]\n",
            " [4 5]]\n"
          ]
        }
      ]
    },
    {
      "cell_type": "code",
      "source": [
        "def normalize_func(arr):\n",
        "  arr_min = np.min(arr)\n",
        "  arr_max = np.max(arr)\n",
        "  normalized_arr = (arr-arr_min)/(arr_max - arr_min)\n",
        "  return normalized_arr\n",
        "\n",
        "random_arr = np.random.random((4,4)) * 100\n",
        "normalized_array = normalize_func(random_arr)\n",
        "print(\"Actual Array :\\n\" ,random_arr)\n",
        "print(\"Normalized Array :\\n\" ,normalized_array)"
      ],
      "metadata": {
        "id": "kbYPMbgVhRk9",
        "colab": {
          "base_uri": "https://localhost:8080/"
        },
        "outputId": "5127e568-b523-41c9-e93f-b06e32aa5ba8"
      },
      "execution_count": 35,
      "outputs": [
        {
          "output_type": "stream",
          "name": "stdout",
          "text": [
            "Actual Array :\n",
            " [[67.95541978 71.08165307 59.07404651 83.48062827]\n",
            " [78.08164792 51.02554407 90.14658872 41.32275264]\n",
            " [10.83949777 36.37677033  3.15667885  7.79723706]\n",
            " [30.10656647 34.69693758 76.4446366  51.39263192]]\n",
            "Normalized Array :\n",
            " [[0.74489951 0.78083739 0.64280292 0.92337088]\n",
            " [0.86130643 0.55028066 1.         0.43874139]\n",
            " [0.08831851 0.38188442 0.         0.05334594]\n",
            " [0.30980475 0.36257376 0.84248803 0.55450055]]\n"
          ]
        }
      ]
    }
  ]
}